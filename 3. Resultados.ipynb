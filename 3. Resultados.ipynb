{
 "cells": [
  {
   "cell_type": "markdown",
   "id": "8b98a4c8-076a-4c13-afdf-294cef8738ed",
   "metadata": {},
   "source": [
    "## Resultados"
   ]
  },
  {
   "cell_type": "code",
   "execution_count": 6,
   "id": "bc0c65cd-0e88-4e0e-88f2-4a13582ac93a",
   "metadata": {},
   "outputs": [],
   "source": [
    "import pandas as pd"
   ]
  },
  {
   "cell_type": "code",
   "execution_count": 13,
   "id": "8ff61fbf-ad5c-408a-85a9-0b0c13d1dc0d",
   "metadata": {},
   "outputs": [],
   "source": [
    "Regresion_Logistica_No_Balanceado=[99.92, 0.88  ,    0.62    ,  0.73 ,0.809453466248626]\n",
    "Regresion_Logistica_Balanceado=[ 98.33, 0.09    ,  0.90   ,   0.16, 0.9407318428215407]\n",
    "KNN = [99.87, 0.58    ,  0.80  ,    0.67 ,0.8974726426867877]"
   ]
  },
  {
   "cell_type": "code",
   "execution_count": 14,
   "id": "6a89b875-2687-4575-b088-6a10492042ca",
   "metadata": {},
   "outputs": [],
   "source": [
    "df = pd.DataFrame(list(zip(Regresion_Logistica_No_Balanceado, Regresion_Logistica_Balanceado, KNN)),\n",
    "                  index =['Accuracy', 'Precision', 'Recall', 'F1-score', 'AUROC'],\n",
    "               columns =['Reg. Log.', 'Reg. Log. Balanceado','KNN'])"
   ]
  },
  {
   "cell_type": "code",
   "execution_count": 15,
   "id": "22532885-98ea-4f07-b803-11783059fbd3",
   "metadata": {},
   "outputs": [
    {
     "data": {
      "text/html": [
       "<div>\n",
       "<style scoped>\n",
       "    .dataframe tbody tr th:only-of-type {\n",
       "        vertical-align: middle;\n",
       "    }\n",
       "\n",
       "    .dataframe tbody tr th {\n",
       "        vertical-align: top;\n",
       "    }\n",
       "\n",
       "    .dataframe thead th {\n",
       "        text-align: right;\n",
       "    }\n",
       "</style>\n",
       "<table border=\"1\" class=\"dataframe\">\n",
       "  <thead>\n",
       "    <tr style=\"text-align: right;\">\n",
       "      <th></th>\n",
       "      <th>Reg. Log.</th>\n",
       "      <th>Reg. Log. Balanceado</th>\n",
       "      <th>KNN</th>\n",
       "    </tr>\n",
       "  </thead>\n",
       "  <tbody>\n",
       "    <tr>\n",
       "      <th>Accuracy</th>\n",
       "      <td>99.920000</td>\n",
       "      <td>98.330000</td>\n",
       "      <td>99.870000</td>\n",
       "    </tr>\n",
       "    <tr>\n",
       "      <th>Precision</th>\n",
       "      <td>0.880000</td>\n",
       "      <td>0.090000</td>\n",
       "      <td>0.580000</td>\n",
       "    </tr>\n",
       "    <tr>\n",
       "      <th>Recall</th>\n",
       "      <td>0.620000</td>\n",
       "      <td>0.900000</td>\n",
       "      <td>0.800000</td>\n",
       "    </tr>\n",
       "    <tr>\n",
       "      <th>F1-score</th>\n",
       "      <td>0.730000</td>\n",
       "      <td>0.160000</td>\n",
       "      <td>0.670000</td>\n",
       "    </tr>\n",
       "    <tr>\n",
       "      <th>AUROC</th>\n",
       "      <td>0.809453</td>\n",
       "      <td>0.940732</td>\n",
       "      <td>0.897473</td>\n",
       "    </tr>\n",
       "  </tbody>\n",
       "</table>\n",
       "</div>"
      ],
      "text/plain": [
       "           Reg. Log.  Reg. Log. Balanceado        KNN\n",
       "Accuracy   99.920000             98.330000  99.870000\n",
       "Precision   0.880000              0.090000   0.580000\n",
       "Recall      0.620000              0.900000   0.800000\n",
       "F1-score    0.730000              0.160000   0.670000\n",
       "AUROC       0.809453              0.940732   0.897473"
      ]
     },
     "execution_count": 15,
     "metadata": {},
     "output_type": "execute_result"
    }
   ],
   "source": [
    "df"
   ]
  },
  {
   "cell_type": "code",
   "execution_count": null,
   "id": "2a0f39c7-f6e2-49e2-8349-e1425bf6ea69",
   "metadata": {},
   "outputs": [],
   "source": []
  }
 ],
 "metadata": {
  "kernelspec": {
   "display_name": "Python 3 (ipykernel)",
   "language": "python",
   "name": "python3"
  },
  "language_info": {
   "codemirror_mode": {
    "name": "ipython",
    "version": 3
   },
   "file_extension": ".py",
   "mimetype": "text/x-python",
   "name": "python",
   "nbconvert_exporter": "python",
   "pygments_lexer": "ipython3",
   "version": "3.9.7"
  }
 },
 "nbformat": 4,
 "nbformat_minor": 5
}
